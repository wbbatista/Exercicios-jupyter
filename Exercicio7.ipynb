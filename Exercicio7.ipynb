{
 "cells": [
  {
   "cell_type": "markdown",
   "metadata": {},
   "source": [
    "<table><tr><td><img src='wbb3x4.jpeg' width=800 height=600> \n",
    "</td><td><p align=\"justify\"><font size=3>\n",
    "Wana Baista Barbosa, 28, Belém-PA.\n",
    "Engenheira a Computação pela univesidade federal do Pará, 2018.\n",
    "Trabalho de conclusão de curso (TCC) na área de visão computacional, comparação de métodos para locaização de irís/pupila.</font></p>\n",
    "    \n",
    "<p align=\"justify\"><font size=3>Estágio de 6 meses na empresa Vale S.A com a Equipe de TI Industrial (2017), foco em desenvolvimento e inovação tecnológica. Técnica em suporte campo pela empresa DXC (antiga hp, 09/2018-03/2019), suporte em TI, atendimento ao usuário e otimização de processos. Bolsista de desenvolvimento tecnológico pelo cnpq no Censipam (Centro Gestor e Operacional do Sistema de Proteção da Amazônia) (02/2019-10/2019), análise de dados e aplicação de modelos de inteligência artificial em dados meteorológicos, voltados para problemas de clusters.</font></p>\n",
    "</td></tr></table>"
   ]
  }
 ],
 "metadata": {
  "celltoolbar": "Slideshow",
  "kernelspec": {
   "display_name": "Python [conda env:ex_ju] *",
   "language": "python",
   "name": "conda-env-ex_ju-py"
  },
  "language_info": {
   "codemirror_mode": {
    "name": "ipython",
    "version": 3
   },
   "file_extension": ".py",
   "mimetype": "text/x-python",
   "name": "python",
   "nbconvert_exporter": "python",
   "pygments_lexer": "ipython3",
   "version": "3.7.4"
  }
 },
 "nbformat": 4,
 "nbformat_minor": 2
}
