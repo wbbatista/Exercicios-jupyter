{
 "cells": [
  {
   "cell_type": "markdown",
   "metadata": {
    "slideshow": {
     "slide_type": "slide"
    }
   },
   "source": [
    "# Application of Artificial Intelligence in industries"
   ]
  },
  {
   "cell_type": "markdown",
   "metadata": {
    "slideshow": {
     "slide_type": "subslide"
    }
   },
   "source": [
    "# What is, and what isn't AI?\n",
    "\n",
    "## How should we define AI?\n",
    "\n",
    "\n",
    "![](AI.svg)"
   ]
  },
  {
   "cell_type": "markdown",
   "metadata": {
    "slideshow": {
     "slide_type": "subslide"
    }
   },
   "source": []
  },
  {
   "cell_type": "markdown",
   "metadata": {
    "slideshow": {
     "slide_type": "subslide"
    }
   },
   "source": [
    "# What is, and what isn't AI? Not an easy question!\n",
    "\n",
    "#### AI can be define by its two principle caracteristics: Autonomy and Adaptivity"
   ]
  },
  {
   "cell_type": "markdown",
   "metadata": {
    "slideshow": {
     "slide_type": "subslide"
    }
   },
   "source": [
    "\n",
    "<font color='blue' size=10 ><b>Autonomy</b></font>\n",
    "\n",
    "* The ability to perform tasks in complex environments without constant guidance by a user.\n",
    "\n",
    "<font color='blue' size=10 ><b>Adaptivity</b></font>\n",
    "\n",
    "* The ability to improve performance by learning from experience."
   ]
  },
  {
   "cell_type": "markdown",
   "metadata": {},
   "source": [
    "## Some applications that are already used by industry\n",
    "\n",
    "* Pattern recognition\n",
    "* Image and video processing\n",
    "* Predictions to make decisions\n"
   ]
  }
 ],
 "metadata": {
  "celltoolbar": "Slideshow",
  "kernelspec": {
   "display_name": "Python [conda env:ex_ju] *",
   "language": "python",
   "name": "conda-env-ex_ju-py"
  },
  "language_info": {
   "codemirror_mode": {
    "name": "ipython",
    "version": 3
   },
   "file_extension": ".py",
   "mimetype": "text/x-python",
   "name": "python",
   "nbconvert_exporter": "python",
   "pygments_lexer": "ipython3",
   "version": "3.7.4"
  }
 },
 "nbformat": 4,
 "nbformat_minor": 2
}
