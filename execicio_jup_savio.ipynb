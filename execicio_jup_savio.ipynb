{
 "cells": [
  {
   "cell_type": "markdown",
   "metadata": {
    "slideshow": {
     "slide_type": "slide"
    }
   },
   "source": [
    "# Exercicios Jupyter - Slides\n",
    "### Everton Savio"
   ]
  },
  {
   "cell_type": "markdown",
   "metadata": {
    "slideshow": {
     "slide_type": "subslide"
    }
   },
   "source": [
    "![](https://media.makeameme.org/created/brace-yourself-coffee-59g76h.jpg)"
   ]
  },
  {
   "cell_type": "markdown",
   "metadata": {
    "slideshow": {
     "slide_type": "subslide"
    }
   },
   "source": [
    "![coffe_meme01](https://i0.wp.com/caffaholic.com/wp-content/uploads/2018/01/1.png)"
   ]
  },
  {
   "cell_type": "markdown",
   "metadata": {
    "slideshow": {
     "slide_type": "subslide"
    }
   },
   "source": [
    "![](https://i.pinimg.com/originals/12/35/fc/1235fc88ff9438815e9ecc9248fcdbf1.jpg)"
   ]
  },
  {
   "cell_type": "markdown",
   "metadata": {
    "slideshow": {
     "slide_type": "subslide"
    }
   },
   "source": [
    "![](http://www.pmslweb.com/the-blog/wp-content/uploads/2017/06/26-the-working-dead-funny-coffee-meme.jpg)"
   ]
  },
  {
   "cell_type": "markdown",
   "metadata": {
    "slideshow": {
     "slide_type": "subslide"
    }
   },
   "source": [
    "![](http://memecrunch.com/meme/ZBN5/coffee-addict/image.png)"
   ]
  },
  {
   "cell_type": "markdown",
   "metadata": {},
   "source": [
    "![](https://geeksoncoffee.com/wp-content/uploads/2019/04/58-5.jpg)"
   ]
  },
  {
   "cell_type": "markdown",
   "metadata": {},
   "source": [
    "![](http://wavelengthsblog.files.wordpress.com/2012/10/coffee-meme.jpg)"
   ]
  },
  {
   "cell_type": "markdown",
   "metadata": {},
   "source": [
    "![](https://images2.memedroid.com/images/UPLOADED118/54d96c967b559.jpeg)"
   ]
  },
  {
   "cell_type": "markdown",
   "metadata": {},
   "source": [
    "![](https://pbs.twimg.com/media/D53c6ybU0AA3PD8.jpg)"
   ]
  },
  {
   "cell_type": "markdown",
   "metadata": {},
   "source": [
    "![](https://images.baklol.com/Coffee-in-the-Afternoon-Be-Like0578012401499509271.jpg)"
   ]
  },
  {
   "cell_type": "code",
   "execution_count": 1,
   "metadata": {},
   "outputs": [
    {
     "name": "stdout",
     "output_type": "stream",
     "text": [
      "--2019-10-03 17:31:55--  https://media.makeameme.org/created/brace-yourself-coffee-59g76h.jpg\n",
      "Resolvendo media.makeameme.org (media.makeameme.org)... 2606:4700:20::6819:1b0a, 2606:4700:20::6819:1a0a, 104.25.27.10, ...\n",
      "Conectando-se a media.makeameme.org (media.makeameme.org)|2606:4700:20::6819:1b0a|:443... conectado.\n",
      "A requisição HTTP foi enviada, aguardando resposta... 200 OK\n",
      "Tamanho: 48200 (47K) [image/jpeg]\n",
      "Salvando em: “brace-yourself-coffee-59g76h.jpg”\n",
      "\n",
      "brace-yourself-coff 100%[===================>]  47,07K  --.-KB/s    em 0,002s  \n",
      "\n",
      "2019-10-03 17:31:55 (29,8 MB/s) - “brace-yourself-coffee-59g76h.jpg” salvo [48200/48200]\n",
      "\n"
     ]
    }
   ],
   "source": [
    "!wget https://media.makeameme.org/created/brace-yourself-coffee-59g76h.jpg"
   ]
  },
  {
   "cell_type": "code",
   "execution_count": 2,
   "metadata": {},
   "outputs": [
    {
     "name": "stdout",
     "output_type": "stream",
     "text": [
      "--2019-10-03 17:32:22--  https://i0.wp.com/caffaholic.com/wp-content/uploads/2018/01/1.png\n",
      "Resolvendo i0.wp.com (i0.wp.com)... 192.0.77.2\n",
      "Conectando-se a i0.wp.com (i0.wp.com)|192.0.77.2|:443... conectado.\n",
      "A requisição HTTP foi enviada, aguardando resposta... 200 OK\n",
      "Tamanho: 173185 (169K) [image/png]\n",
      "Salvando em: “1.png”\n",
      "\n",
      "1.png               100%[===================>] 169,13K  --.-KB/s    em 0,1s    \n",
      "\n",
      "2019-10-03 17:32:23 (1,25 MB/s) - “1.png” salvo [173185/173185]\n",
      "\n"
     ]
    }
   ],
   "source": [
    "!wget https://i0.wp.com/caffaholic.com/wp-content/uploads/2018/01/1.png"
   ]
  },
  {
   "cell_type": "code",
   "execution_count": 3,
   "metadata": {},
   "outputs": [
    {
     "name": "stdout",
     "output_type": "stream",
     "text": [
      "--2019-10-03 17:32:39--  https://i.pinimg.com/originals/12/35/fc/1235fc88ff9438815e9ecc9248fcdbf1.jpg\n",
      "Resolvendo i.pinimg.com (i.pinimg.com)... 2600:1419:f000:393::1931, 2600:1419:f000:38c::1931, 23.62.40.75\n",
      "Conectando-se a i.pinimg.com (i.pinimg.com)|2600:1419:f000:393::1931|:443... conectado.\n",
      "A requisição HTTP foi enviada, aguardando resposta... 200 OK\n",
      "Tamanho: 53661 (52K) [image/jpeg]\n",
      "Salvando em: “1235fc88ff9438815e9ecc9248fcdbf1.jpg”\n",
      "\n",
      "1235fc88ff9438815e9 100%[===================>]  52,40K  --.-KB/s    em 0,05s   \n",
      "\n",
      "2019-10-03 17:32:39 (1012 KB/s) - “1235fc88ff9438815e9ecc9248fcdbf1.jpg” salvo [53661/53661]\n",
      "\n"
     ]
    }
   ],
   "source": [
    "!wget https://i.pinimg.com/originals/12/35/fc/1235fc88ff9438815e9ecc9248fcdbf1.jpg"
   ]
  },
  {
   "cell_type": "code",
   "execution_count": 4,
   "metadata": {},
   "outputs": [
    {
     "name": "stdout",
     "output_type": "stream",
     "text": [
      "--2019-10-03 17:32:56--  http://www.pmslweb.com/the-blog/wp-content/uploads/2017/06/26-the-working-dead-funny-coffee-meme.jpg\n",
      "Resolvendo www.pmslweb.com (www.pmslweb.com)... 160.153.32.41\n",
      "Conectando-se a www.pmslweb.com (www.pmslweb.com)|160.153.32.41|:80... conectado.\n",
      "A requisição HTTP foi enviada, aguardando resposta... 200 OK\n",
      "Tamanho: 39133 (38K) [image/jpeg]\n",
      "Salvando em: “26-the-working-dead-funny-coffee-meme.jpg”\n",
      "\n",
      "26-the-working-dead 100%[===================>]  38,22K  92,8KB/s    em 0,4s    \n",
      "\n",
      "2019-10-03 17:32:57 (92,8 KB/s) - “26-the-working-dead-funny-coffee-meme.jpg” salvo [39133/39133]\n",
      "\n"
     ]
    }
   ],
   "source": [
    "!wget http://www.pmslweb.com/the-blog/wp-content/uploads/2017/06/26-the-working-dead-funny-coffee-meme.jpg"
   ]
  },
  {
   "cell_type": "code",
   "execution_count": 5,
   "metadata": {},
   "outputs": [
    {
     "name": "stdout",
     "output_type": "stream",
     "text": [
      "--2019-10-03 17:33:12--  http://memecrunch.com/meme/ZBN5/coffee-addict/image.png\n",
      "Resolvendo memecrunch.com (memecrunch.com)... 104.24.103.227, 104.24.102.227\n",
      "Conectando-se a memecrunch.com (memecrunch.com)|104.24.103.227|:80... conectado.\n",
      "A requisição HTTP foi enviada, aguardando resposta... 200 OK\n",
      "Tamanho: 133909 (131K) [image/png]\n",
      "Salvando em: “image.png”\n",
      "\n",
      "image.png           100%[===================>] 130,77K   255KB/s    em 0,5s    \n",
      "\n",
      "2019-10-03 17:33:13 (255 KB/s) - “image.png” salvo [133909/133909]\n",
      "\n"
     ]
    }
   ],
   "source": [
    "!wget http://memecrunch.com/meme/ZBN5/coffee-addict/image.png"
   ]
  },
  {
   "cell_type": "code",
   "execution_count": 6,
   "metadata": {},
   "outputs": [
    {
     "name": "stdout",
     "output_type": "stream",
     "text": [
      "--2019-10-03 17:33:28--  https://geeksoncoffee.com/wp-content/uploads/2019/04/58-5.jpg\n",
      "Resolvendo geeksoncoffee.com (geeksoncoffee.com)... 23.235.213.208\n",
      "Conectando-se a geeksoncoffee.com (geeksoncoffee.com)|23.235.213.208|:443... conectado.\n",
      "A requisição HTTP foi enviada, aguardando resposta... 200 OK\n",
      "Tamanho: 91657 (90K) [image/jpeg]\n",
      "Salvando em: “58-5.jpg”\n",
      "\n",
      "58-5.jpg            100%[===================>]  89,51K   143KB/s    em 0,6s    \n",
      "\n",
      "2019-10-03 17:33:29 (143 KB/s) - “58-5.jpg” salvo [91657/91657]\n",
      "\n"
     ]
    }
   ],
   "source": [
    "!wget https://geeksoncoffee.com/wp-content/uploads/2019/04/58-5.jpg"
   ]
  },
  {
   "cell_type": "code",
   "execution_count": 7,
   "metadata": {},
   "outputs": [
    {
     "name": "stdout",
     "output_type": "stream",
     "text": [
      "--2019-10-03 17:33:44--  http://wavelengthsblog.files.wordpress.com/2012/10/coffee-meme.jpg\n",
      "Resolvendo wavelengthsblog.files.wordpress.com (wavelengthsblog.files.wordpress.com)... 192.0.72.29, 192.0.72.28\n",
      "Conectando-se a wavelengthsblog.files.wordpress.com (wavelengthsblog.files.wordpress.com)|192.0.72.29|:80... conectado.\n",
      "A requisição HTTP foi enviada, aguardando resposta... 301 Moved Permanently\n",
      "Localização: https://wavelengthsblog.files.wordpress.com/2012/10/coffee-meme.jpg [redirecionando]\n",
      "--2019-10-03 17:33:44--  https://wavelengthsblog.files.wordpress.com/2012/10/coffee-meme.jpg\n",
      "Conectando-se a wavelengthsblog.files.wordpress.com (wavelengthsblog.files.wordpress.com)|192.0.72.29|:443... conectado.\n",
      "A requisição HTTP foi enviada, aguardando resposta... 200 OK\n",
      "Tamanho: 80978 (79K) [image/jpeg]\n",
      "Salvando em: “coffee-meme.jpg”\n",
      "\n",
      "coffee-meme.jpg     100%[===================>]  79,08K  --.-KB/s    em 0,07s   \n",
      "\n",
      "2019-10-03 17:33:44 (1,15 MB/s) - “coffee-meme.jpg” salvo [80978/80978]\n",
      "\n"
     ]
    }
   ],
   "source": [
    "!wget http://wavelengthsblog.files.wordpress.com/2012/10/coffee-meme.jpg"
   ]
  },
  {
   "cell_type": "code",
   "execution_count": 8,
   "metadata": {},
   "outputs": [
    {
     "name": "stdout",
     "output_type": "stream",
     "text": [
      "--2019-10-03 17:34:03--  https://images2.memedroid.com/images/UPLOADED118/54d96c967b559.jpeg\n",
      "Resolvendo images2.memedroid.com (images2.memedroid.com)... 2606:4700:10::6814:5985, 2606:4700:10::6814:5a85, 104.20.89.133, ...\n",
      "Conectando-se a images2.memedroid.com (images2.memedroid.com)|2606:4700:10::6814:5985|:443... conectado.\n",
      "A requisição HTTP foi enviada, aguardando resposta... 200 OK\n",
      "Tamanho: 30835 (30K) [image/jpeg]\n",
      "Salvando em: “54d96c967b559.jpeg”\n",
      "\n",
      "54d96c967b559.jpeg  100%[===================>]  30,11K  --.-KB/s    em 0,006s  \n",
      "\n",
      "2019-10-03 17:34:03 (4,61 MB/s) - “54d96c967b559.jpeg” salvo [30835/30835]\n",
      "\n"
     ]
    }
   ],
   "source": [
    "!wget https://images2.memedroid.com/images/UPLOADED118/54d96c967b559.jpeg"
   ]
  },
  {
   "cell_type": "code",
   "execution_count": 9,
   "metadata": {},
   "outputs": [
    {
     "name": "stdout",
     "output_type": "stream",
     "text": [
      "--2019-10-03 17:34:19--  https://pbs.twimg.com/media/D53c6ybU0AA3PD8.jpg\n",
      "Resolvendo pbs.twimg.com (pbs.twimg.com)... 2606:2800:258:80d:3b4:1d2d:1c2:26bb, 192.16.59.1\n",
      "Conectando-se a pbs.twimg.com (pbs.twimg.com)|2606:2800:258:80d:3b4:1d2d:1c2:26bb|:443... conectado.\n",
      "A requisição HTTP foi enviada, aguardando resposta... 200 OK\n",
      "Tamanho: 28669 (28K) [image/jpeg]\n",
      "Salvando em: “D53c6ybU0AA3PD8.jpg”\n",
      "\n",
      "D53c6ybU0AA3PD8.jpg 100%[===================>]  28,00K  --.-KB/s    em 0,08s   \n",
      "\n",
      "2019-10-03 17:34:19 (363 KB/s) - “D53c6ybU0AA3PD8.jpg” salvo [28669/28669]\n",
      "\n"
     ]
    }
   ],
   "source": [
    "!wget https://pbs.twimg.com/media/D53c6ybU0AA3PD8.jpg"
   ]
  },
  {
   "cell_type": "code",
   "execution_count": 10,
   "metadata": {},
   "outputs": [
    {
     "name": "stdout",
     "output_type": "stream",
     "text": [
      "--2019-10-03 17:34:36--  https://images.baklol.com/Coffee-in-the-Afternoon-Be-Like0578012401499509271.jpg\n",
      "Resolvendo images.baklol.com (images.baklol.com)... 2606:4700:20::6819:466c, 2606:4700:20::6819:456c, 104.25.69.108, ...\n",
      "Conectando-se a images.baklol.com (images.baklol.com)|2606:4700:20::6819:466c|:443... conectado.\n",
      "A requisição HTTP foi enviada, aguardando resposta... 200 OK\n",
      "Tamanho: 98704 (96K) [image/jpeg]\n",
      "Salvando em: “Coffee-in-the-Afternoon-Be-Like0578012401499509271.jpg”\n",
      "\n",
      "Coffee-in-the-After 100%[===================>]  96,39K  --.-KB/s    em 0,07s   \n",
      "\n",
      "2019-10-03 17:34:36 (1,32 MB/s) - “Coffee-in-the-Afternoon-Be-Like0578012401499509271.jpg” salvo [98704/98704]\n",
      "\n"
     ]
    }
   ],
   "source": [
    "!wget https://images.baklol.com/Coffee-in-the-Afternoon-Be-Like0578012401499509271.jpg"
   ]
  },
  {
   "cell_type": "code",
   "execution_count": 12,
   "metadata": {},
   "outputs": [
    {
     "name": "stdout",
     "output_type": "stream",
     "text": [
      "mkdir: não foi possível criar o diretório “images_slide”: Arquivo existe\r\n"
     ]
    }
   ],
   "source": []
  }
 ],
 "metadata": {
  "celltoolbar": "Slideshow",
  "kernelspec": {
   "display_name": "Python [conda env:ex_ju] *",
   "language": "python",
   "name": "conda-env-ex_ju-py"
  },
  "language_info": {
   "codemirror_mode": {
    "name": "ipython",
    "version": 3
   },
   "file_extension": ".py",
   "mimetype": "text/x-python",
   "name": "python",
   "nbconvert_exporter": "python",
   "pygments_lexer": "ipython3",
   "version": "3.7.4"
  }
 },
 "nbformat": 4,
 "nbformat_minor": 2
}
